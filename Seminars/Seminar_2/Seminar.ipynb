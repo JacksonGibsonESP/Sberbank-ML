{
 "cells": [
  {
   "cell_type": "code",
   "execution_count": 1,
   "metadata": {},
   "outputs": [],
   "source": [
    "import numpy as np\n",
    "import pandas as pd\n",
    "import seaborn as sns\n",
    "from copy import deepcopy\n",
    "%matplotlib inline"
   ]
  },
  {
   "cell_type": "markdown",
   "metadata": {},
   "source": [
    "## SKLearn"
   ]
  },
  {
   "cell_type": "markdown",
   "metadata": {},
   "source": [
    "(почти) каждый класс в SKLearn имеет следующие методы:"
   ]
  },
  {
   "cell_type": "code",
   "execution_count": null,
   "metadata": {},
   "outputs": [],
   "source": [
    "class KNN():\n",
    "    def __init__(self, n_neighbors=5, p=2, metric='minkowski'):\n",
    "        <your code>\n",
    "    \n",
    "    def fit(self, X_train, y_train):\n",
    "        <your code>\n",
    "        \n",
    "    def predict(self, X_test):\n",
    "        <your code>\n",
    "        \n",
    "    def predict_proba(self, X_test):\n",
    "        <your code>"
   ]
  },
  {
   "cell_type": "markdown",
   "metadata": {},
   "source": [
    "(у регрессий нет predict_proba, есть только predict)"
   ]
  },
  {
   "cell_type": "code",
   "execution_count": null,
   "metadata": {},
   "outputs": [],
   "source": [
    "from sklearn.neighbors import KNeighborsClassifier\n",
    "\n",
    "my_knn = KNN(k=<choose your favourite>)\n",
    "sklearn_knn = KNeighborsClassifier(k=<choose your favourite>)"
   ]
  },
  {
   "cell_type": "markdown",
   "metadata": {},
   "source": [
    "## Diabetes"
   ]
  },
  {
   "cell_type": "code",
   "execution_count": 2,
   "metadata": {},
   "outputs": [],
   "source": [
    "from sklearn.datasets import load_diabetes"
   ]
  },
  {
   "cell_type": "code",
   "execution_count": 3,
   "metadata": {},
   "outputs": [],
   "source": [
    "diabetes = load_diabetes()\n",
    "diabetes_X = diabetes.data\n",
    "diabetes_Y = diabetes.target"
   ]
  },
  {
   "cell_type": "code",
   "execution_count": null,
   "metadata": {},
   "outputs": [],
   "source": [
    "diabetes.DESCR.split('\\n')"
   ]
  },
  {
   "cell_type": "code",
   "execution_count": 4,
   "metadata": {},
   "outputs": [
    {
     "data": {
      "text/html": [
       "<div>\n",
       "<style scoped>\n",
       "    .dataframe tbody tr th:only-of-type {\n",
       "        vertical-align: middle;\n",
       "    }\n",
       "\n",
       "    .dataframe tbody tr th {\n",
       "        vertical-align: top;\n",
       "    }\n",
       "\n",
       "    .dataframe thead th {\n",
       "        text-align: right;\n",
       "    }\n",
       "</style>\n",
       "<table border=\"1\" class=\"dataframe\">\n",
       "  <thead>\n",
       "    <tr style=\"text-align: right;\">\n",
       "      <th></th>\n",
       "      <th>age</th>\n",
       "      <th>sex</th>\n",
       "      <th>bmi</th>\n",
       "      <th>bp</th>\n",
       "      <th>s1</th>\n",
       "      <th>s2</th>\n",
       "      <th>s3</th>\n",
       "      <th>s4</th>\n",
       "      <th>s5</th>\n",
       "      <th>s6</th>\n",
       "    </tr>\n",
       "  </thead>\n",
       "  <tbody>\n",
       "    <tr>\n",
       "      <th>0</th>\n",
       "      <td>0.038076</td>\n",
       "      <td>0.050680</td>\n",
       "      <td>0.061696</td>\n",
       "      <td>0.021872</td>\n",
       "      <td>-0.044223</td>\n",
       "      <td>-0.034821</td>\n",
       "      <td>-0.043401</td>\n",
       "      <td>-0.002592</td>\n",
       "      <td>0.019908</td>\n",
       "      <td>-0.017646</td>\n",
       "    </tr>\n",
       "    <tr>\n",
       "      <th>1</th>\n",
       "      <td>-0.001882</td>\n",
       "      <td>-0.044642</td>\n",
       "      <td>-0.051474</td>\n",
       "      <td>-0.026328</td>\n",
       "      <td>-0.008449</td>\n",
       "      <td>-0.019163</td>\n",
       "      <td>0.074412</td>\n",
       "      <td>-0.039493</td>\n",
       "      <td>-0.068330</td>\n",
       "      <td>-0.092204</td>\n",
       "    </tr>\n",
       "    <tr>\n",
       "      <th>2</th>\n",
       "      <td>0.085299</td>\n",
       "      <td>0.050680</td>\n",
       "      <td>0.044451</td>\n",
       "      <td>-0.005671</td>\n",
       "      <td>-0.045599</td>\n",
       "      <td>-0.034194</td>\n",
       "      <td>-0.032356</td>\n",
       "      <td>-0.002592</td>\n",
       "      <td>0.002864</td>\n",
       "      <td>-0.025930</td>\n",
       "    </tr>\n",
       "    <tr>\n",
       "      <th>3</th>\n",
       "      <td>-0.089063</td>\n",
       "      <td>-0.044642</td>\n",
       "      <td>-0.011595</td>\n",
       "      <td>-0.036656</td>\n",
       "      <td>0.012191</td>\n",
       "      <td>0.024991</td>\n",
       "      <td>-0.036038</td>\n",
       "      <td>0.034309</td>\n",
       "      <td>0.022692</td>\n",
       "      <td>-0.009362</td>\n",
       "    </tr>\n",
       "    <tr>\n",
       "      <th>4</th>\n",
       "      <td>0.005383</td>\n",
       "      <td>-0.044642</td>\n",
       "      <td>-0.036385</td>\n",
       "      <td>0.021872</td>\n",
       "      <td>0.003935</td>\n",
       "      <td>0.015596</td>\n",
       "      <td>0.008142</td>\n",
       "      <td>-0.002592</td>\n",
       "      <td>-0.031991</td>\n",
       "      <td>-0.046641</td>\n",
       "    </tr>\n",
       "  </tbody>\n",
       "</table>\n",
       "</div>"
      ],
      "text/plain": [
       "        age       sex       bmi        bp        s1        s2        s3  \\\n",
       "0  0.038076  0.050680  0.061696  0.021872 -0.044223 -0.034821 -0.043401   \n",
       "1 -0.001882 -0.044642 -0.051474 -0.026328 -0.008449 -0.019163  0.074412   \n",
       "2  0.085299  0.050680  0.044451 -0.005671 -0.045599 -0.034194 -0.032356   \n",
       "3 -0.089063 -0.044642 -0.011595 -0.036656  0.012191  0.024991 -0.036038   \n",
       "4  0.005383 -0.044642 -0.036385  0.021872  0.003935  0.015596  0.008142   \n",
       "\n",
       "         s4        s5        s6  \n",
       "0 -0.002592  0.019908 -0.017646  \n",
       "1 -0.039493 -0.068330 -0.092204  \n",
       "2 -0.002592  0.002864 -0.025930  \n",
       "3  0.034309  0.022692 -0.009362  \n",
       "4 -0.002592 -0.031991 -0.046641  "
      ]
     },
     "execution_count": 4,
     "metadata": {},
     "output_type": "execute_result"
    }
   ],
   "source": [
    "X_df = pd.DataFrame(diabetes_X, columns=diabetes.feature_names)\n",
    "X_df.head()"
   ]
  },
  {
   "cell_type": "markdown",
   "metadata": {},
   "source": [
    "Посмотрим на корреляции признаков между собой:"
   ]
  },
  {
   "cell_type": "code",
   "execution_count": 5,
   "metadata": {},
   "outputs": [
    {
     "data": {
      "image/png": "[encoded data removed]",
      "text/plain": [
       "<Figure size 720x720 with 2 Axes>"
      ]
     },
     "metadata": {
      "needs_background": "light"
     },
     "output_type": "display_data"
    }
   ],
   "source": [
    "import matplotlib.pyplot as plt\n",
    "plt.subplots(figsize=(10,10))\n",
    "sns.heatmap(X_df.corr(), square=True)\n",
    "plt.show()"
   ]
  },
  {
   "cell_type": "markdown",
   "metadata": {},
   "source": [
    "### Linear Regression\n",
    "\n",
    "http://scikit-learn.org/stable/modules/generated/sklearn.linear_model.LinearRegression.html"
   ]
  },
  {
   "cell_type": "code",
   "execution_count": 7,
   "metadata": {},
   "outputs": [],
   "source": [
    "from sklearn.linear_model import LinearRegression\n",
    "from sklearn.model_selection import cross_val_score"
   ]
  },
  {
   "cell_type": "code",
   "execution_count": 8,
   "metadata": {},
   "outputs": [
    {
     "data": {
      "text/plain": [
       "-2993.0729432998864"
      ]
     },
     "execution_count": 8,
     "metadata": {},
     "output_type": "execute_result"
    }
   ],
   "source": [
    "lr = LinearRegression()\n",
    "np.mean(cross_val_score(lr, diabetes_X, diabetes_Y, scoring='neg_mean_squared_error', cv=5))"
   ]
  },
  {
   "cell_type": "code",
   "execution_count": 9,
   "metadata": {},
   "outputs": [],
   "source": [
    "from sklearn.model_selection import train_test_split"
   ]
  },
  {
   "cell_type": "code",
   "execution_count": 10,
   "metadata": {},
   "outputs": [],
   "source": [
    "x_train, x_test, y_train, y_test = train_test_split(diabetes_X, diabetes_Y, test_size=0.2)"
   ]
  },
  {
   "cell_type": "code",
   "execution_count": 11,
   "metadata": {},
   "outputs": [
    {
     "data": {
      "text/plain": [
       "array([105, 105, 161, 164, 139, 202, 290, 119, 138, 194, 148, 193,  90,\n",
       "       159,  84, 149,  68, 189, 146,  69, 167,  72, 193,  95, 118, 179,\n",
       "       138,  67, 156, 262, 204,  92, 158, 198, 138, 189, 236, 209,  79,\n",
       "       171, 260, 101, 183, 117, 107,  97, 274, 151,  76, 117, 168, 165,\n",
       "       173, 260, 112, 178, 252, 199, 158,  89, 108, 108, 105, 122,  93,\n",
       "       119, 125, 215,  40, 171, 157, 130, 143, 160, 124, 186,  88, 258,\n",
       "       247, 258, 193, 128, 230, 206, 197,  52, 122, 100,  85])"
      ]
     },
     "execution_count": 11,
     "metadata": {},
     "output_type": "execute_result"
    }
   ],
   "source": [
    "lr = LinearRegression().fit(x_train, y_train)\n",
    "lr.predict(x_test).ravel().astype(int)"
   ]
  },
  {
   "cell_type": "code",
   "execution_count": 12,
   "metadata": {},
   "outputs": [
    {
     "data": {
      "text/plain": [
       "array([ 84.,  94., 252., 151., 103., 248., 270., 253.,  59., 292., 172.,\n",
       "       272.,  91., 154.,  71.,  95.,  77., 229., 182.,  39., 225.,  75.,\n",
       "       283., 102.,  61., 144., 146.,  57.,  73., 242., 151.,  64., 141.,\n",
       "       222.,  83., 178., 321., 288.,  51., 121., 263., 104.,  91.,  96.,\n",
       "       108., 158., 346., 200.,  55., 179., 141., 109., 181., 303.,  72.,\n",
       "       107., 281., 173., 134.,  96., 199., 102.,  65.,  97., 113.,  63.,\n",
       "       111., 121.,  45., 128., 259., 191., 142., 120.,  60., 129.,  88.,\n",
       "       310., 245., 233., 175., 135.,  99., 109., 191.,  72.,  51.,  87.,\n",
       "        96.])"
      ]
     },
     "execution_count": 12,
     "metadata": {},
     "output_type": "execute_result"
    }
   ],
   "source": [
    "np.array(y_test).ravel()"
   ]
  },
  {
   "cell_type": "markdown",
   "metadata": {},
   "source": [
    "Посмотрим, какие коэффициенты получились у линейной регрессии:"
   ]
  },
  {
   "cell_type": "code",
   "execution_count": 13,
   "metadata": {},
   "outputs": [
    {
     "name": "stdout",
     "output_type": "stream",
     "text": [
      "Index(['age', 'sex', 'bmi', 'bp', 's1', 's2', 's3', 's4', 's5', 's6'], dtype='object')\n",
      "[ -24.01068423 -248.47415492  551.47701908  311.76680215 -896.37336672\n",
      "  556.33274728  228.01583667  236.63374957  772.75884392   70.42447924]\n"
     ]
    }
   ],
   "source": [
    "print(X_df.columns)\n",
    "print(lr.coef_)"
   ]
  },
  {
   "cell_type": "code",
   "execution_count": 14,
   "metadata": {
    "scrolled": true
   },
   "outputs": [
    {
     "data": {
      "image/png": "[encoded data removed]",
      "text/plain": [
       "<Figure size 1440x576 with 1 Axes>"
      ]
     },
     "metadata": {
      "needs_background": "light"
     },
     "output_type": "display_data"
    }
   ],
   "source": [
    "importances = np.abs(lr.coef_)\n",
    "indices = np.argsort(importances)[::-1]\n",
    "columns_num = len(X_df.columns)\n",
    "\n",
    "plt.figure(figsize=(20, 8))\n",
    "plt.title(\"Feature importances\")\n",
    "plt.bar(range(columns_num), importances[indices],\n",
    "       color=\"r\",  align=\"center\")\n",
    "plt.xticks(range(columns_num), X_df.columns[indices])\n",
    "plt.xlim([-1, columns_num])\n",
    "plt.xticks(rotation=90)\n",
    "plt.show()"
   ]
  },
  {
   "cell_type": "markdown",
   "metadata": {},
   "source": [
    "# To-Do"
   ]
  },
  {
   "cell_type": "code",
   "execution_count": null,
   "metadata": {},
   "outputs": [],
   "source": [
    "<Попробуйте применить Lasso и Ridge регрессии к нашему набору данных>"
   ]
  },
  {
   "cell_type": "markdown",
   "metadata": {},
   "source": [
    "Посмотрим также на корреляцию признаков:"
   ]
  },
  {
   "cell_type": "code",
   "execution_count": 16,
   "metadata": {},
   "outputs": [],
   "source": [
    "from sklearn.linear_model import Lasso"
   ]
  },
  {
   "cell_type": "code",
   "execution_count": 17,
   "metadata": {},
   "outputs": [
    {
     "data": {
      "text/plain": [
       "-3008.892221996572"
      ]
     },
     "execution_count": 17,
     "metadata": {},
     "output_type": "execute_result"
    }
   ],
   "source": [
    "llr = Lasso(alpha=0.1)\n",
    "np.mean(cross_val_score(llr, diabetes_X, diabetes_Y, scoring='neg_mean_squared_error', cv=5))"
   ]
  },
  {
   "cell_type": "code",
   "execution_count": 19,
   "metadata": {},
   "outputs": [],
   "source": [
    "llr = Lasso(alpha=0.1).fit(x_train, y_train)"
   ]
  },
  {
   "cell_type": "code",
   "execution_count": 22,
   "metadata": {},
   "outputs": [
    {
     "data": {
      "text/html": [
       "<div>\n",
       "<style scoped>\n",
       "    .dataframe tbody tr th:only-of-type {\n",
       "        vertical-align: middle;\n",
       "    }\n",
       "\n",
       "    .dataframe tbody tr th {\n",
       "        vertical-align: top;\n",
       "    }\n",
       "\n",
       "    .dataframe thead th {\n",
       "        text-align: right;\n",
       "    }\n",
       "</style>\n",
       "<table border=\"1\" class=\"dataframe\">\n",
       "  <thead>\n",
       "    <tr style=\"text-align: right;\">\n",
       "      <th></th>\n",
       "      <th>age</th>\n",
       "      <th>sex</th>\n",
       "      <th>bmi</th>\n",
       "      <th>bp</th>\n",
       "      <th>s1</th>\n",
       "      <th>s2</th>\n",
       "      <th>s3</th>\n",
       "      <th>s4</th>\n",
       "      <th>s5</th>\n",
       "      <th>s6</th>\n",
       "    </tr>\n",
       "  </thead>\n",
       "  <tbody>\n",
       "    <tr>\n",
       "      <th>age</th>\n",
       "      <td>1.000000</td>\n",
       "      <td>0.173737</td>\n",
       "      <td>0.185085</td>\n",
       "      <td>0.335427</td>\n",
       "      <td>0.260061</td>\n",
       "      <td>0.219243</td>\n",
       "      <td>-0.075181</td>\n",
       "      <td>0.203841</td>\n",
       "      <td>0.270777</td>\n",
       "      <td>0.301731</td>\n",
       "    </tr>\n",
       "    <tr>\n",
       "      <th>sex</th>\n",
       "      <td>0.173737</td>\n",
       "      <td>1.000000</td>\n",
       "      <td>0.088161</td>\n",
       "      <td>0.241013</td>\n",
       "      <td>0.035277</td>\n",
       "      <td>0.142637</td>\n",
       "      <td>-0.379090</td>\n",
       "      <td>0.332115</td>\n",
       "      <td>0.149918</td>\n",
       "      <td>0.208133</td>\n",
       "    </tr>\n",
       "    <tr>\n",
       "      <th>bmi</th>\n",
       "      <td>0.185085</td>\n",
       "      <td>0.088161</td>\n",
       "      <td>1.000000</td>\n",
       "      <td>0.395415</td>\n",
       "      <td>0.249777</td>\n",
       "      <td>0.261170</td>\n",
       "      <td>-0.366811</td>\n",
       "      <td>0.413807</td>\n",
       "      <td>0.446159</td>\n",
       "      <td>0.388680</td>\n",
       "    </tr>\n",
       "    <tr>\n",
       "      <th>bp</th>\n",
       "      <td>0.335427</td>\n",
       "      <td>0.241013</td>\n",
       "      <td>0.395415</td>\n",
       "      <td>1.000000</td>\n",
       "      <td>0.242470</td>\n",
       "      <td>0.185558</td>\n",
       "      <td>-0.178761</td>\n",
       "      <td>0.257653</td>\n",
       "      <td>0.393478</td>\n",
       "      <td>0.390429</td>\n",
       "    </tr>\n",
       "    <tr>\n",
       "      <th>s1</th>\n",
       "      <td>0.260061</td>\n",
       "      <td>0.035277</td>\n",
       "      <td>0.249777</td>\n",
       "      <td>0.242470</td>\n",
       "      <td>1.000000</td>\n",
       "      <td>0.896663</td>\n",
       "      <td>0.051519</td>\n",
       "      <td>0.542207</td>\n",
       "      <td>0.515501</td>\n",
       "      <td>0.325717</td>\n",
       "    </tr>\n",
       "    <tr>\n",
       "      <th>s2</th>\n",
       "      <td>0.219243</td>\n",
       "      <td>0.142637</td>\n",
       "      <td>0.261170</td>\n",
       "      <td>0.185558</td>\n",
       "      <td>0.896663</td>\n",
       "      <td>1.000000</td>\n",
       "      <td>-0.196455</td>\n",
       "      <td>0.659817</td>\n",
       "      <td>0.318353</td>\n",
       "      <td>0.290600</td>\n",
       "    </tr>\n",
       "    <tr>\n",
       "      <th>s3</th>\n",
       "      <td>-0.075181</td>\n",
       "      <td>-0.379090</td>\n",
       "      <td>-0.366811</td>\n",
       "      <td>-0.178761</td>\n",
       "      <td>0.051519</td>\n",
       "      <td>-0.196455</td>\n",
       "      <td>1.000000</td>\n",
       "      <td>-0.738493</td>\n",
       "      <td>-0.398577</td>\n",
       "      <td>-0.273697</td>\n",
       "    </tr>\n",
       "    <tr>\n",
       "      <th>s4</th>\n",
       "      <td>0.203841</td>\n",
       "      <td>0.332115</td>\n",
       "      <td>0.413807</td>\n",
       "      <td>0.257653</td>\n",
       "      <td>0.542207</td>\n",
       "      <td>0.659817</td>\n",
       "      <td>-0.738493</td>\n",
       "      <td>1.000000</td>\n",
       "      <td>0.617857</td>\n",
       "      <td>0.417212</td>\n",
       "    </tr>\n",
       "    <tr>\n",
       "      <th>s5</th>\n",
       "      <td>0.270777</td>\n",
       "      <td>0.149918</td>\n",
       "      <td>0.446159</td>\n",
       "      <td>0.393478</td>\n",
       "      <td>0.515501</td>\n",
       "      <td>0.318353</td>\n",
       "      <td>-0.398577</td>\n",
       "      <td>0.617857</td>\n",
       "      <td>1.000000</td>\n",
       "      <td>0.464670</td>\n",
       "    </tr>\n",
       "    <tr>\n",
       "      <th>s6</th>\n",
       "      <td>0.301731</td>\n",
       "      <td>0.208133</td>\n",
       "      <td>0.388680</td>\n",
       "      <td>0.390429</td>\n",
       "      <td>0.325717</td>\n",
       "      <td>0.290600</td>\n",
       "      <td>-0.273697</td>\n",
       "      <td>0.417212</td>\n",
       "      <td>0.464670</td>\n",
       "      <td>1.000000</td>\n",
       "    </tr>\n",
       "  </tbody>\n",
       "</table>\n",
       "</div>"
      ],
      "text/plain": [
       "          age       sex       bmi        bp        s1        s2        s3  \\\n",
       "age  1.000000  0.173737  0.185085  0.335427  0.260061  0.219243 -0.075181   \n",
       "sex  0.173737  1.000000  0.088161  0.241013  0.035277  0.142637 -0.379090   \n",
       "bmi  0.185085  0.088161  1.000000  0.395415  0.249777  0.261170 -0.366811   \n",
       "bp   0.335427  0.241013  0.395415  1.000000  0.242470  0.185558 -0.178761   \n",
       "s1   0.260061  0.035277  0.249777  0.242470  1.000000  0.896663  0.051519   \n",
       "s2   0.219243  0.142637  0.261170  0.185558  0.896663  1.000000 -0.196455   \n",
       "s3  -0.075181 -0.379090 -0.366811 -0.178761  0.051519 -0.196455  1.000000   \n",
       "s4   0.203841  0.332115  0.413807  0.257653  0.542207  0.659817 -0.738493   \n",
       "s5   0.270777  0.149918  0.446159  0.393478  0.515501  0.318353 -0.398577   \n",
       "s6   0.301731  0.208133  0.388680  0.390429  0.325717  0.290600 -0.273697   \n",
       "\n",
       "           s4        s5        s6  \n",
       "age  0.203841  0.270777  0.301731  \n",
       "sex  0.332115  0.149918  0.208133  \n",
       "bmi  0.413807  0.446159  0.388680  \n",
       "bp   0.257653  0.393478  0.390429  \n",
       "s1   0.542207  0.515501  0.325717  \n",
       "s2   0.659817  0.318353  0.290600  \n",
       "s3  -0.738493 -0.398577 -0.273697  \n",
       "s4   1.000000  0.617857  0.417212  \n",
       "s5   0.617857  1.000000  0.464670  \n",
       "s6   0.417212  0.464670  1.000000  "
      ]
     },
     "execution_count": 22,
     "metadata": {},
     "output_type": "execute_result"
    }
   ],
   "source": [
    "X_df.corr()"
   ]
  },
  {
   "cell_type": "code",
   "execution_count": 42,
   "metadata": {
    "scrolled": false
   },
   "outputs": [
    {
     "data": {
      "text/html": [
       "<div>\n",
       "<style scoped>\n",
       "    .dataframe tbody tr th:only-of-type {\n",
       "        vertical-align: middle;\n",
       "    }\n",
       "\n",
       "    .dataframe tbody tr th {\n",
       "        vertical-align: top;\n",
       "    }\n",
       "\n",
       "    .dataframe thead th {\n",
       "        text-align: right;\n",
       "    }\n",
       "</style>\n",
       "<table border=\"1\" class=\"dataframe\">\n",
       "  <thead>\n",
       "    <tr style=\"text-align: right;\">\n",
       "      <th></th>\n",
       "      <th>age</th>\n",
       "      <th>sex</th>\n",
       "      <th>bmi</th>\n",
       "      <th>bp</th>\n",
       "      <th>s1</th>\n",
       "      <th>s2</th>\n",
       "      <th>s3</th>\n",
       "      <th>s4</th>\n",
       "      <th>s5</th>\n",
       "      <th>s6</th>\n",
       "    </tr>\n",
       "  </thead>\n",
       "  <tbody>\n",
       "    <tr>\n",
       "      <th>0</th>\n",
       "      <td>-0.0</td>\n",
       "      <td>-160.412976</td>\n",
       "      <td>546.111156</td>\n",
       "      <td>255.811272</td>\n",
       "      <td>-22.170639</td>\n",
       "      <td>-0.0</td>\n",
       "      <td>-163.651309</td>\n",
       "      <td>0.0</td>\n",
       "      <td>463.498356</td>\n",
       "      <td>39.801009</td>\n",
       "    </tr>\n",
       "  </tbody>\n",
       "</table>\n",
       "</div>"
      ],
      "text/plain": [
       "   age         sex         bmi          bp         s1   s2          s3   s4  \\\n",
       "0 -0.0 -160.412976  546.111156  255.811272 -22.170639 -0.0 -163.651309  0.0   \n",
       "\n",
       "           s5         s6  \n",
       "0  463.498356  39.801009  "
      ]
     },
     "execution_count": 42,
     "metadata": {},
     "output_type": "execute_result"
    }
   ],
   "source": [
    "res = pd.DataFrame(data = [llr.coef_], columns = X_df.columns.values)\n",
    "res.head()"
   ]
  },
  {
   "cell_type": "code",
   "execution_count": 32,
   "metadata": {},
   "outputs": [],
   "source": [
    "from sklearn.linear_model import Ridge"
   ]
  },
  {
   "cell_type": "code",
   "execution_count": 33,
   "metadata": {},
   "outputs": [
    {
     "data": {
      "text/plain": [
       "-3006.6971771020735"
      ]
     },
     "execution_count": 33,
     "metadata": {},
     "output_type": "execute_result"
    }
   ],
   "source": [
    "rlr = Ridge(alpha=0.1)\n",
    "np.mean(cross_val_score(rlr, diabetes_X, diabetes_Y, scoring='neg_mean_squared_error', cv=5))"
   ]
  },
  {
   "cell_type": "code",
   "execution_count": 34,
   "metadata": {},
   "outputs": [],
   "source": [
    "rlr = Ridge(alpha=0.1).fit(x_train, y_train)"
   ]
  },
  {
   "cell_type": "code",
   "execution_count": 44,
   "metadata": {
    "scrolled": false
   },
   "outputs": [
    {
     "data": {
      "text/html": [
       "<div>\n",
       "<style scoped>\n",
       "    .dataframe tbody tr th:only-of-type {\n",
       "        vertical-align: middle;\n",
       "    }\n",
       "\n",
       "    .dataframe tbody tr th {\n",
       "        vertical-align: top;\n",
       "    }\n",
       "\n",
       "    .dataframe thead th {\n",
       "        text-align: right;\n",
       "    }\n",
       "</style>\n",
       "<table border=\"1\" class=\"dataframe\">\n",
       "  <thead>\n",
       "    <tr style=\"text-align: right;\">\n",
       "      <th></th>\n",
       "      <th>age</th>\n",
       "      <th>sex</th>\n",
       "      <th>bmi</th>\n",
       "      <th>bp</th>\n",
       "      <th>s1</th>\n",
       "      <th>s2</th>\n",
       "      <th>s3</th>\n",
       "      <th>s4</th>\n",
       "      <th>s5</th>\n",
       "      <th>s6</th>\n",
       "    </tr>\n",
       "  </thead>\n",
       "  <tbody>\n",
       "    <tr>\n",
       "      <th>0</th>\n",
       "      <td>-11.261272</td>\n",
       "      <td>-205.559231</td>\n",
       "      <td>502.522771</td>\n",
       "      <td>284.104843</td>\n",
       "      <td>-62.368414</td>\n",
       "      <td>-63.550917</td>\n",
       "      <td>-142.079196</td>\n",
       "      <td>126.483033</td>\n",
       "      <td>420.330625</td>\n",
       "      <td>94.769207</td>\n",
       "    </tr>\n",
       "  </tbody>\n",
       "</table>\n",
       "</div>"
      ],
      "text/plain": [
       "         age         sex         bmi          bp         s1         s2  \\\n",
       "0 -11.261272 -205.559231  502.522771  284.104843 -62.368414 -63.550917   \n",
       "\n",
       "           s3          s4          s5         s6  \n",
       "0 -142.079196  126.483033  420.330625  94.769207  "
      ]
     },
     "execution_count": 44,
     "metadata": {},
     "output_type": "execute_result"
    }
   ],
   "source": [
    "res = pd.DataFrame(data = [rlr.coef_], columns = X_df.columns.values)\n",
    "res.head()"
   ]
  },
  {
   "cell_type": "markdown",
   "metadata": {},
   "source": [
    "## Предсказание сердечно-сосудистых заболеваний"
   ]
  },
  {
   "cell_type": "markdown",
   "metadata": {},
   "source": [
    "https://mlbootcamp.ru/round/12/sandbox/"
   ]
  },
  {
   "cell_type": "code",
   "execution_count": 45,
   "metadata": {},
   "outputs": [
    {
     "data": {
      "text/html": [
       "<div>\n",
       "<style scoped>\n",
       "    .dataframe tbody tr th:only-of-type {\n",
       "        vertical-align: middle;\n",
       "    }\n",
       "\n",
       "    .dataframe tbody tr th {\n",
       "        vertical-align: top;\n",
       "    }\n",
       "\n",
       "    .dataframe thead th {\n",
       "        text-align: right;\n",
       "    }\n",
       "</style>\n",
       "<table border=\"1\" class=\"dataframe\">\n",
       "  <thead>\n",
       "    <tr style=\"text-align: right;\">\n",
       "      <th></th>\n",
       "      <th>id</th>\n",
       "      <th>age</th>\n",
       "      <th>gender</th>\n",
       "      <th>height</th>\n",
       "      <th>weight</th>\n",
       "      <th>ap_hi</th>\n",
       "      <th>ap_lo</th>\n",
       "      <th>cholesterol</th>\n",
       "      <th>gluc</th>\n",
       "      <th>smoke</th>\n",
       "      <th>alco</th>\n",
       "      <th>active</th>\n",
       "      <th>cardio</th>\n",
       "    </tr>\n",
       "  </thead>\n",
       "  <tbody>\n",
       "    <tr>\n",
       "      <th>0</th>\n",
       "      <td>0</td>\n",
       "      <td>18393</td>\n",
       "      <td>2</td>\n",
       "      <td>168</td>\n",
       "      <td>62.0</td>\n",
       "      <td>110</td>\n",
       "      <td>80</td>\n",
       "      <td>1</td>\n",
       "      <td>1</td>\n",
       "      <td>0</td>\n",
       "      <td>0</td>\n",
       "      <td>1</td>\n",
       "      <td>0</td>\n",
       "    </tr>\n",
       "    <tr>\n",
       "      <th>1</th>\n",
       "      <td>1</td>\n",
       "      <td>20228</td>\n",
       "      <td>1</td>\n",
       "      <td>156</td>\n",
       "      <td>85.0</td>\n",
       "      <td>140</td>\n",
       "      <td>90</td>\n",
       "      <td>3</td>\n",
       "      <td>1</td>\n",
       "      <td>0</td>\n",
       "      <td>0</td>\n",
       "      <td>1</td>\n",
       "      <td>1</td>\n",
       "    </tr>\n",
       "    <tr>\n",
       "      <th>2</th>\n",
       "      <td>2</td>\n",
       "      <td>18857</td>\n",
       "      <td>1</td>\n",
       "      <td>165</td>\n",
       "      <td>64.0</td>\n",
       "      <td>130</td>\n",
       "      <td>70</td>\n",
       "      <td>3</td>\n",
       "      <td>1</td>\n",
       "      <td>0</td>\n",
       "      <td>0</td>\n",
       "      <td>0</td>\n",
       "      <td>1</td>\n",
       "    </tr>\n",
       "    <tr>\n",
       "      <th>3</th>\n",
       "      <td>3</td>\n",
       "      <td>17623</td>\n",
       "      <td>2</td>\n",
       "      <td>169</td>\n",
       "      <td>82.0</td>\n",
       "      <td>150</td>\n",
       "      <td>100</td>\n",
       "      <td>1</td>\n",
       "      <td>1</td>\n",
       "      <td>0</td>\n",
       "      <td>0</td>\n",
       "      <td>1</td>\n",
       "      <td>1</td>\n",
       "    </tr>\n",
       "    <tr>\n",
       "      <th>4</th>\n",
       "      <td>4</td>\n",
       "      <td>17474</td>\n",
       "      <td>1</td>\n",
       "      <td>156</td>\n",
       "      <td>56.0</td>\n",
       "      <td>100</td>\n",
       "      <td>60</td>\n",
       "      <td>1</td>\n",
       "      <td>1</td>\n",
       "      <td>0</td>\n",
       "      <td>0</td>\n",
       "      <td>0</td>\n",
       "      <td>0</td>\n",
       "    </tr>\n",
       "  </tbody>\n",
       "</table>\n",
       "</div>"
      ],
      "text/plain": [
       "   id    age  gender  height  weight  ap_hi  ap_lo  cholesterol  gluc  smoke  \\\n",
       "0   0  18393       2     168    62.0    110     80            1     1      0   \n",
       "1   1  20228       1     156    85.0    140     90            3     1      0   \n",
       "2   2  18857       1     165    64.0    130     70            3     1      0   \n",
       "3   3  17623       2     169    82.0    150    100            1     1      0   \n",
       "4   4  17474       1     156    56.0    100     60            1     1      0   \n",
       "\n",
       "   alco  active  cardio  \n",
       "0     0       1       0  \n",
       "1     0       1       1  \n",
       "2     0       0       1  \n",
       "3     0       1       1  \n",
       "4     0       0       0  "
      ]
     },
     "execution_count": 45,
     "metadata": {},
     "output_type": "execute_result"
    }
   ],
   "source": [
    "train_data = pd.read_csv(\"train_med.csv\", delimiter=';')\n",
    "train_data.head()"
   ]
  },
  {
   "cell_type": "code",
   "execution_count": 46,
   "metadata": {},
   "outputs": [],
   "source": [
    "X_train, Y_train = np.array(train_data.drop(\"cardio\", axis=1).drop(\"id\", axis=1)), np.array(train_data['cardio'])"
   ]
  },
  {
   "cell_type": "code",
   "execution_count": 47,
   "metadata": {},
   "outputs": [
    {
     "name": "stderr",
     "output_type": "stream",
     "text": [
      "C:\\Workspace\\Anaconda3\\lib\\site-packages\\sklearn\\ensemble\\weight_boosting.py:29: DeprecationWarning: numpy.core.umath_tests is an internal NumPy module and should not be imported. It will be removed in a future NumPy release.\n",
      "  from numpy.core.umath_tests import inner1d\n"
     ]
    },
    {
     "data": {
      "text/plain": [
       "0.7000142830612245"
      ]
     },
     "execution_count": 47,
     "metadata": {},
     "output_type": "execute_result"
    }
   ],
   "source": [
    "from sklearn.ensemble import RandomForestClassifier\n",
    "\n",
    "rf = RandomForestClassifier()\n",
    "np.mean(cross_val_score(rf, X_train, Y_train, scoring='accuracy', cv=5))"
   ]
  },
  {
   "cell_type": "code",
   "execution_count": 48,
   "metadata": {},
   "outputs": [
    {
     "data": {
      "image/png": "[encoded data removed]",
      "text/plain": [
       "<Figure size 1440x576 with 1 Axes>"
      ]
     },
     "metadata": {
      "needs_background": "light"
     },
     "output_type": "display_data"
    }
   ],
   "source": [
    "rf = RandomForestClassifier().fit(X_train, Y_train)\n",
    "\n",
    "importances = rf.feature_importances_\n",
    "std = np.std([tree.feature_importances_ for tree in rf.estimators_], axis=0)\n",
    "indices = np.argsort(importances)[::-1]\n",
    "\n",
    "plt.figure(figsize=(20, 8))\n",
    "plt.title(\"Feature importances\")\n",
    "plt.bar(range(X_train.shape[1]), importances[indices],\n",
    "       color=\"r\", yerr=std[indices], align=\"center\")\n",
    "plt.xticks(range(X_train.shape[1]), train_data.drop([\"cardio\", \"id\"], axis=1).columns[indices])\n",
    "plt.xlim([-1, X_train.shape[1]])\n",
    "plt.show()"
   ]
  },
  {
   "cell_type": "code",
   "execution_count": 53,
   "metadata": {},
   "outputs": [
    {
     "name": "stdout",
     "output_type": "stream",
     "text": [
      "Fitting 3 folds for each of 24 candidates, totalling 72 fits\n",
      "[CV] max_depth=3, min_samples_split=2, n_estimators=10 ...............\n",
      "[CV] ...... max_depth=3, min_samples_split=2, n_estimators=10 -   0.2s\n",
      "[CV] max_depth=3, min_samples_split=2, n_estimators=10 ...............\n"
     ]
    },
    {
     "name": "stderr",
     "output_type": "stream",
     "text": [
      "[Parallel(n_jobs=1)]: Done   1 out of   1 | elapsed:    0.2s remaining:    0.0s\n"
     ]
    },
    {
     "name": "stdout",
     "output_type": "stream",
     "text": [
      "[CV] ...... max_depth=3, min_samples_split=2, n_estimators=10 -   0.2s\n",
      "[CV] max_depth=3, min_samples_split=2, n_estimators=10 ...............\n",
      "[CV] ...... max_depth=3, min_samples_split=2, n_estimators=10 -   0.2s\n",
      "[CV] max_depth=3, min_samples_split=2, n_estimators=20 ...............\n",
      "[CV] ...... max_depth=3, min_samples_split=2, n_estimators=20 -   0.5s\n",
      "[CV] max_depth=3, min_samples_split=2, n_estimators=20 ...............\n",
      "[CV] ...... max_depth=3, min_samples_split=2, n_estimators=20 -   0.4s\n",
      "[CV] max_depth=3, min_samples_split=2, n_estimators=20 ...............\n",
      "[CV] ...... max_depth=3, min_samples_split=2, n_estimators=20 -   0.5s\n",
      "[CV] max_depth=3, min_samples_split=3, n_estimators=10 ...............\n",
      "[CV] ...... max_depth=3, min_samples_split=3, n_estimators=10 -   0.2s\n",
      "[CV] max_depth=3, min_samples_split=3, n_estimators=10 ...............\n",
      "[CV] ...... max_depth=3, min_samples_split=3, n_estimators=10 -   0.2s\n",
      "[CV] max_depth=3, min_samples_split=3, n_estimators=10 ...............\n",
      "[CV] ...... max_depth=3, min_samples_split=3, n_estimators=10 -   0.2s\n",
      "[CV] max_depth=3, min_samples_split=3, n_estimators=20 ...............\n",
      "[CV] ...... max_depth=3, min_samples_split=3, n_estimators=20 -   0.5s\n",
      "[CV] max_depth=3, min_samples_split=3, n_estimators=20 ...............\n",
      "[CV] ...... max_depth=3, min_samples_split=3, n_estimators=20 -   0.6s\n",
      "[CV] max_depth=3, min_samples_split=3, n_estimators=20 ...............\n",
      "[CV] ...... max_depth=3, min_samples_split=3, n_estimators=20 -   0.5s\n",
      "[CV] max_depth=3, min_samples_split=4, n_estimators=10 ...............\n",
      "[CV] ...... max_depth=3, min_samples_split=4, n_estimators=10 -   0.2s\n",
      "[CV] max_depth=3, min_samples_split=4, n_estimators=10 ...............\n",
      "[CV] ...... max_depth=3, min_samples_split=4, n_estimators=10 -   0.2s\n",
      "[CV] max_depth=3, min_samples_split=4, n_estimators=10 ...............\n",
      "[CV] ...... max_depth=3, min_samples_split=4, n_estimators=10 -   0.3s\n",
      "[CV] max_depth=3, min_samples_split=4, n_estimators=20 ...............\n",
      "[CV] ...... max_depth=3, min_samples_split=4, n_estimators=20 -   0.7s\n",
      "[CV] max_depth=3, min_samples_split=4, n_estimators=20 ...............\n",
      "[CV] ...... max_depth=3, min_samples_split=4, n_estimators=20 -   0.5s\n",
      "[CV] max_depth=3, min_samples_split=4, n_estimators=20 ...............\n",
      "[CV] ...... max_depth=3, min_samples_split=4, n_estimators=20 -   0.4s\n",
      "[CV] max_depth=10, min_samples_split=2, n_estimators=10 ..............\n",
      "[CV] ..... max_depth=10, min_samples_split=2, n_estimators=10 -   0.5s\n",
      "[CV] max_depth=10, min_samples_split=2, n_estimators=10 ..............\n",
      "[CV] ..... max_depth=10, min_samples_split=2, n_estimators=10 -   0.4s\n",
      "[CV] max_depth=10, min_samples_split=2, n_estimators=10 ..............\n",
      "[CV] ..... max_depth=10, min_samples_split=2, n_estimators=10 -   0.5s\n",
      "[CV] max_depth=10, min_samples_split=2, n_estimators=20 ..............\n",
      "[CV] ..... max_depth=10, min_samples_split=2, n_estimators=20 -   0.9s\n",
      "[CV] max_depth=10, min_samples_split=2, n_estimators=20 ..............\n",
      "[CV] ..... max_depth=10, min_samples_split=2, n_estimators=20 -   0.9s\n",
      "[CV] max_depth=10, min_samples_split=2, n_estimators=20 ..............\n",
      "[CV] ..... max_depth=10, min_samples_split=2, n_estimators=20 -   1.0s\n",
      "[CV] max_depth=10, min_samples_split=3, n_estimators=10 ..............\n",
      "[CV] ..... max_depth=10, min_samples_split=3, n_estimators=10 -   0.4s\n",
      "[CV] max_depth=10, min_samples_split=3, n_estimators=10 ..............\n",
      "[CV] ..... max_depth=10, min_samples_split=3, n_estimators=10 -   0.4s\n",
      "[CV] max_depth=10, min_samples_split=3, n_estimators=10 ..............\n",
      "[CV] ..... max_depth=10, min_samples_split=3, n_estimators=10 -   0.5s\n",
      "[CV] max_depth=10, min_samples_split=3, n_estimators=20 ..............\n",
      "[CV] ..... max_depth=10, min_samples_split=3, n_estimators=20 -   1.0s\n",
      "[CV] max_depth=10, min_samples_split=3, n_estimators=20 ..............\n",
      "[CV] ..... max_depth=10, min_samples_split=3, n_estimators=20 -   0.9s\n",
      "[CV] max_depth=10, min_samples_split=3, n_estimators=20 ..............\n",
      "[CV] ..... max_depth=10, min_samples_split=3, n_estimators=20 -   0.9s\n",
      "[CV] max_depth=10, min_samples_split=4, n_estimators=10 ..............\n",
      "[CV] ..... max_depth=10, min_samples_split=4, n_estimators=10 -   0.4s\n",
      "[CV] max_depth=10, min_samples_split=4, n_estimators=10 ..............\n",
      "[CV] ..... max_depth=10, min_samples_split=4, n_estimators=10 -   0.8s\n",
      "[CV] max_depth=10, min_samples_split=4, n_estimators=10 ..............\n",
      "[CV] ..... max_depth=10, min_samples_split=4, n_estimators=10 -   0.5s\n",
      "[CV] max_depth=10, min_samples_split=4, n_estimators=20 ..............\n",
      "[CV] ..... max_depth=10, min_samples_split=4, n_estimators=20 -   1.0s\n",
      "[CV] max_depth=10, min_samples_split=4, n_estimators=20 ..............\n",
      "[CV] ..... max_depth=10, min_samples_split=4, n_estimators=20 -   1.0s\n",
      "[CV] max_depth=10, min_samples_split=4, n_estimators=20 ..............\n",
      "[CV] ..... max_depth=10, min_samples_split=4, n_estimators=20 -   0.9s\n",
      "[CV] max_depth=50, min_samples_split=2, n_estimators=10 ..............\n",
      "[CV] ..... max_depth=50, min_samples_split=2, n_estimators=10 -   0.9s\n",
      "[CV] max_depth=50, min_samples_split=2, n_estimators=10 ..............\n",
      "[CV] ..... max_depth=50, min_samples_split=2, n_estimators=10 -   0.9s\n",
      "[CV] max_depth=50, min_samples_split=2, n_estimators=10 ..............\n",
      "[CV] ..... max_depth=50, min_samples_split=2, n_estimators=10 -   0.9s\n",
      "[CV] max_depth=50, min_samples_split=2, n_estimators=20 ..............\n",
      "[CV] ..... max_depth=50, min_samples_split=2, n_estimators=20 -   1.9s\n",
      "[CV] max_depth=50, min_samples_split=2, n_estimators=20 ..............\n",
      "[CV] ..... max_depth=50, min_samples_split=2, n_estimators=20 -   1.9s\n",
      "[CV] max_depth=50, min_samples_split=2, n_estimators=20 ..............\n",
      "[CV] ..... max_depth=50, min_samples_split=2, n_estimators=20 -   1.9s\n",
      "[CV] max_depth=50, min_samples_split=3, n_estimators=10 ..............\n",
      "[CV] ..... max_depth=50, min_samples_split=3, n_estimators=10 -   0.9s\n",
      "[CV] max_depth=50, min_samples_split=3, n_estimators=10 ..............\n",
      "[CV] ..... max_depth=50, min_samples_split=3, n_estimators=10 -   0.9s\n",
      "[CV] max_depth=50, min_samples_split=3, n_estimators=10 ..............\n",
      "[CV] ..... max_depth=50, min_samples_split=3, n_estimators=10 -   1.2s\n",
      "[CV] max_depth=50, min_samples_split=3, n_estimators=20 ..............\n",
      "[CV] ..... max_depth=50, min_samples_split=3, n_estimators=20 -   2.1s\n",
      "[CV] max_depth=50, min_samples_split=3, n_estimators=20 ..............\n",
      "[CV] ..... max_depth=50, min_samples_split=3, n_estimators=20 -   1.9s\n",
      "[CV] max_depth=50, min_samples_split=3, n_estimators=20 ..............\n",
      "[CV] ..... max_depth=50, min_samples_split=3, n_estimators=20 -   1.8s\n",
      "[CV] max_depth=50, min_samples_split=4, n_estimators=10 ..............\n",
      "[CV] ..... max_depth=50, min_samples_split=4, n_estimators=10 -   0.9s\n",
      "[CV] max_depth=50, min_samples_split=4, n_estimators=10 ..............\n",
      "[CV] ..... max_depth=50, min_samples_split=4, n_estimators=10 -   0.9s\n",
      "[CV] max_depth=50, min_samples_split=4, n_estimators=10 ..............\n",
      "[CV] ..... max_depth=50, min_samples_split=4, n_estimators=10 -   0.9s\n",
      "[CV] max_depth=50, min_samples_split=4, n_estimators=20 ..............\n",
      "[CV] ..... max_depth=50, min_samples_split=4, n_estimators=20 -   1.9s\n",
      "[CV] max_depth=50, min_samples_split=4, n_estimators=20 ..............\n",
      "[CV] ..... max_depth=50, min_samples_split=4, n_estimators=20 -   1.9s\n",
      "[CV] max_depth=50, min_samples_split=4, n_estimators=20 ..............\n",
      "[CV] ..... max_depth=50, min_samples_split=4, n_estimators=20 -   1.8s\n",
      "[CV] max_depth=None, min_samples_split=2, n_estimators=10 ............\n",
      "[CV] ... max_depth=None, min_samples_split=2, n_estimators=10 -   0.9s\n",
      "[CV] max_depth=None, min_samples_split=2, n_estimators=10 ............\n",
      "[CV] ... max_depth=None, min_samples_split=2, n_estimators=10 -   0.9s\n",
      "[CV] max_depth=None, min_samples_split=2, n_estimators=10 ............\n",
      "[CV] ... max_depth=None, min_samples_split=2, n_estimators=10 -   1.1s\n",
      "[CV] max_depth=None, min_samples_split=2, n_estimators=20 ............\n",
      "[CV] ... max_depth=None, min_samples_split=2, n_estimators=20 -   1.9s\n",
      "[CV] max_depth=None, min_samples_split=2, n_estimators=20 ............\n",
      "[CV] ... max_depth=None, min_samples_split=2, n_estimators=20 -   2.0s\n",
      "[CV] max_depth=None, min_samples_split=2, n_estimators=20 ............\n"
     ]
    },
    {
     "name": "stdout",
     "output_type": "stream",
     "text": [
      "[CV] ... max_depth=None, min_samples_split=2, n_estimators=20 -   1.9s\n",
      "[CV] max_depth=None, min_samples_split=3, n_estimators=10 ............\n",
      "[CV] ... max_depth=None, min_samples_split=3, n_estimators=10 -   0.9s\n",
      "[CV] max_depth=None, min_samples_split=3, n_estimators=10 ............\n",
      "[CV] ... max_depth=None, min_samples_split=3, n_estimators=10 -   0.9s\n",
      "[CV] max_depth=None, min_samples_split=3, n_estimators=10 ............\n",
      "[CV] ... max_depth=None, min_samples_split=3, n_estimators=10 -   0.9s\n",
      "[CV] max_depth=None, min_samples_split=3, n_estimators=20 ............\n",
      "[CV] ... max_depth=None, min_samples_split=3, n_estimators=20 -   1.9s\n",
      "[CV] max_depth=None, min_samples_split=3, n_estimators=20 ............\n",
      "[CV] ... max_depth=None, min_samples_split=3, n_estimators=20 -   1.8s\n",
      "[CV] max_depth=None, min_samples_split=3, n_estimators=20 ............\n",
      "[CV] ... max_depth=None, min_samples_split=3, n_estimators=20 -   1.8s\n",
      "[CV] max_depth=None, min_samples_split=4, n_estimators=10 ............\n",
      "[CV] ... max_depth=None, min_samples_split=4, n_estimators=10 -   0.9s\n",
      "[CV] max_depth=None, min_samples_split=4, n_estimators=10 ............\n",
      "[CV] ... max_depth=None, min_samples_split=4, n_estimators=10 -   1.0s\n",
      "[CV] max_depth=None, min_samples_split=4, n_estimators=10 ............\n",
      "[CV] ... max_depth=None, min_samples_split=4, n_estimators=10 -   0.9s\n",
      "[CV] max_depth=None, min_samples_split=4, n_estimators=20 ............\n",
      "[CV] ... max_depth=None, min_samples_split=4, n_estimators=20 -   1.8s\n",
      "[CV] max_depth=None, min_samples_split=4, n_estimators=20 ............\n",
      "[CV] ... max_depth=None, min_samples_split=4, n_estimators=20 -   1.8s\n",
      "[CV] max_depth=None, min_samples_split=4, n_estimators=20 ............\n",
      "[CV] ... max_depth=None, min_samples_split=4, n_estimators=20 -   1.8s\n"
     ]
    },
    {
     "name": "stderr",
     "output_type": "stream",
     "text": [
      "[Parallel(n_jobs=1)]: Done  72 out of  72 | elapsed:  1.3min finished\n"
     ]
    },
    {
     "data": {
      "text/plain": [
       "GridSearchCV(cv=3, error_score='raise',\n",
       "       estimator=RandomForestClassifier(bootstrap=True, class_weight=None, criterion='gini',\n",
       "            max_depth=3, max_features='auto', max_leaf_nodes=None,\n",
       "            min_impurity_decrease=0.0, min_impurity_split=None,\n",
       "            min_samples_leaf=1, min_samples_split=2,\n",
       "            min_weight_fraction_leaf=0.0, n_estimators=10, n_jobs=1,\n",
       "            oob_score=False, random_state=None, verbose=0,\n",
       "            warm_start=False),\n",
       "       fit_params={}, iid=True, n_jobs=1,\n",
       "       param_grid={'n_estimators': [10, 20], 'max_depth': [3, 10, 50, None], 'min_samples_split': [2, 3, 4]},\n",
       "       pre_dispatch='2*n_jobs', refit=True, scoring='accuracy', verbose=2)"
      ]
     },
     "execution_count": 53,
     "metadata": {},
     "output_type": "execute_result"
    }
   ],
   "source": [
    "from sklearn.grid_search import GridSearchCV\n",
    "\n",
    "rf = RandomForestClassifier(max_depth=3)\n",
    "params = {\n",
    "    'n_estimators': [10, 20],\n",
    "    'max_depth': [3, 10, 50, None],\n",
    "    'min_samples_split': [2, 3, 4]\n",
    "}\n",
    "gsv = GridSearchCV(estimator=rf, param_grid=params, scoring='accuracy', cv=3, verbose=2)\n",
    "gsv.fit(X_train, Y_train)"
   ]
  },
  {
   "cell_type": "code",
   "execution_count": 50,
   "metadata": {},
   "outputs": [
    {
     "name": "stdout",
     "output_type": "stream",
     "text": [
      "{'max_depth': 10, 'min_samples_split': 3, 'n_estimators': 20} 0.7355714285714285\n"
     ]
    }
   ],
   "source": [
    "print(gsv.best_params_, gsv.best_score_)"
   ]
  },
  {
   "cell_type": "code",
   "execution_count": 51,
   "metadata": {},
   "outputs": [
    {
     "data": {
      "text/plain": [
       "[mean: 0.71851, std: 0.00243, params: {'max_depth': 3, 'min_samples_split': 2, 'n_estimators': 10},\n",
       " mean: 0.72323, std: 0.00490, params: {'max_depth': 3, 'min_samples_split': 2, 'n_estimators': 20},\n",
       " mean: 0.72274, std: 0.00607, params: {'max_depth': 3, 'min_samples_split': 3, 'n_estimators': 10},\n",
       " mean: 0.72227, std: 0.00187, params: {'max_depth': 3, 'min_samples_split': 3, 'n_estimators': 20},\n",
       " mean: 0.72564, std: 0.00381, params: {'max_depth': 3, 'min_samples_split': 4, 'n_estimators': 10},\n",
       " mean: 0.72397, std: 0.00094, params: {'max_depth': 3, 'min_samples_split': 4, 'n_estimators': 20},\n",
       " mean: 0.73267, std: 0.00010, params: {'max_depth': 10, 'min_samples_split': 2, 'n_estimators': 10},\n",
       " mean: 0.73469, std: 0.00081, params: {'max_depth': 10, 'min_samples_split': 2, 'n_estimators': 20},\n",
       " mean: 0.73356, std: 0.00089, params: {'max_depth': 10, 'min_samples_split': 3, 'n_estimators': 10},\n",
       " mean: 0.73557, std: 0.00031, params: {'max_depth': 10, 'min_samples_split': 3, 'n_estimators': 20},\n",
       " mean: 0.73357, std: 0.00086, params: {'max_depth': 10, 'min_samples_split': 4, 'n_estimators': 10},\n",
       " mean: 0.73410, std: 0.00124, params: {'max_depth': 10, 'min_samples_split': 4, 'n_estimators': 20},\n",
       " mean: 0.69871, std: 0.00117, params: {'max_depth': 50, 'min_samples_split': 2, 'n_estimators': 10},\n",
       " mean: 0.70851, std: 0.00107, params: {'max_depth': 50, 'min_samples_split': 2, 'n_estimators': 20},\n",
       " mean: 0.70223, std: 0.00198, params: {'max_depth': 50, 'min_samples_split': 3, 'n_estimators': 10},\n",
       " mean: 0.71123, std: 0.00012, params: {'max_depth': 50, 'min_samples_split': 3, 'n_estimators': 20},\n",
       " mean: 0.70494, std: 0.00133, params: {'max_depth': 50, 'min_samples_split': 4, 'n_estimators': 10},\n",
       " mean: 0.71304, std: 0.00132, params: {'max_depth': 50, 'min_samples_split': 4, 'n_estimators': 20},\n",
       " mean: 0.69983, std: 0.00204, params: {'max_depth': None, 'min_samples_split': 2, 'n_estimators': 10},\n",
       " mean: 0.70974, std: 0.00206, params: {'max_depth': None, 'min_samples_split': 2, 'n_estimators': 20},\n",
       " mean: 0.70276, std: 0.00196, params: {'max_depth': None, 'min_samples_split': 3, 'n_estimators': 10},\n",
       " mean: 0.71137, std: 0.00134, params: {'max_depth': None, 'min_samples_split': 3, 'n_estimators': 20},\n",
       " mean: 0.70364, std: 0.00055, params: {'max_depth': None, 'min_samples_split': 4, 'n_estimators': 10},\n",
       " mean: 0.71399, std: 0.00163, params: {'max_depth': None, 'min_samples_split': 4, 'n_estimators': 20}]"
      ]
     },
     "execution_count": 51,
     "metadata": {},
     "output_type": "execute_result"
    }
   ],
   "source": [
    "gsv.grid_scores_"
   ]
  },
  {
   "cell_type": "markdown",
   "metadata": {},
   "source": [
    "#### XGBoost"
   ]
  },
  {
   "cell_type": "code",
   "execution_count": null,
   "metadata": {},
   "outputs": [],
   "source": [
    "<do the same for GradientBoostingClassifier and other eatimators> "
   ]
  },
  {
   "cell_type": "markdown",
   "metadata": {},
   "source": [
    "### Model Ensembles"
   ]
  },
  {
   "cell_type": "markdown",
   "metadata": {},
   "source": [
    "Мы можем предсказывать не класс, а вероятности классов:"
   ]
  },
  {
   "cell_type": "code",
   "execution_count": 54,
   "metadata": {},
   "outputs": [],
   "source": [
    "train_data = pd.read_csv(\"train_med.csv\", delimiter=';')\n",
    "\n",
    "X_train, Y_train = np.array(train_data.drop(\"cardio\", axis=1)), np.array(train_data['cardio'])"
   ]
  },
  {
   "cell_type": "code",
   "execution_count": 55,
   "metadata": {},
   "outputs": [],
   "source": [
    "X_train, X_test, Y_train, Y_test = train_test_split(X_train, Y_train, test_size=0.15, random_state=37)"
   ]
  },
  {
   "cell_type": "code",
   "execution_count": 56,
   "metadata": {},
   "outputs": [],
   "source": [
    "rf = RandomForestClassifier(n_estimators=10).fit(X_train, Y_train)\n",
    "pred = rf.predict_proba(X_test)"
   ]
  },
  {
   "cell_type": "code",
   "execution_count": 57,
   "metadata": {},
   "outputs": [
    {
     "data": {
      "text/plain": [
       "array([[0.1, 0.9],\n",
       "       [0.1, 0.9],\n",
       "       [0.6, 0.4],\n",
       "       ...,\n",
       "       [0.3, 0.7],\n",
       "       [0.5, 0.5],\n",
       "       [0.4, 0.6]])"
      ]
     },
     "execution_count": 57,
     "metadata": {},
     "output_type": "execute_result"
    }
   ],
   "source": [
    "pred"
   ]
  },
  {
   "cell_type": "code",
   "execution_count": null,
   "metadata": {},
   "outputs": [],
   "source": [
    "from sklearn.svm import SVC\n",
    "from sklearn.tree import DecisionTreeClassifier\n",
    "\n",
    "estimator1 = SVC()\n",
    "estimator2 = DecisionTreeClassifier()\n",
    "\n",
    "estimator1.fit(X_train, Y_train)\n",
    "estimator2.fit(X_train, Y_train)\n",
    "\n",
    "pred1 = estimator1.predict_proba(X_test)[:, 1]\n",
    "pred2 = estimator2.predict_proba(X_test)[:, 1]\n",
    "\n",
    "#pred = <compute average of all the estimators>"
   ]
  },
  {
   "cell_type": "code",
   "execution_count": null,
   "metadata": {},
   "outputs": [],
   "source": []
  }
 ],
 "metadata": {
  "kernelspec": {
   "display_name": "Python 3",
   "language": "python",
   "name": "python3"
  },
  "language_info": {
   "codemirror_mode": {
    "name": "ipython",
    "version": 3
   },
   "file_extension": ".py",
   "mimetype": "text/x-python",
   "name": "python",
   "nbconvert_exporter": "python",
   "pygments_lexer": "ipython3",
   "version": "3.7.0"
  }
 },
 "nbformat": 4,
 "nbformat_minor": 2
}
